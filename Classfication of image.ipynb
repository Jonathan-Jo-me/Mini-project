{
  "nbformat": 4,
  "nbformat_minor": 0,
  "metadata": {
    "colab": {
      "name": "Mini project.ipynb",
      "provenance": [],
      "authorship_tag": "ABX9TyPaTQ0skcU1H8X1SfyfhM9p",
      "include_colab_link": true
    },
    "kernelspec": {
      "name": "python3",
      "display_name": "Python 3"
    },
    "language_info": {
      "name": "python"
    }
  },
  "cells": [
    {
      "cell_type": "markdown",
      "metadata": {
        "id": "view-in-github",
        "colab_type": "text"
      },
      "source": [
        "<a href=\"https://colab.research.google.com/github/Jonathan02JO/Mini-project/blob/main/Classfication%20of%20image.ipynb\" target=\"_parent\"><img src=\"https://colab.research.google.com/assets/colab-badge.svg\" alt=\"Open In Colab\"/></a>"
      ]
    },
    {
      "cell_type": "code",
      "metadata": {
        "colab": {
          "base_uri": "https://localhost:8080/"
        },
        "id": "OWX9XULTWT5H",
        "outputId": "267af3b8-de16-4e58-f2ed-d2421384f4ec"
      },
      "source": [
        "%mkdir Classification_Images\n",
        "!pip install bing_image_downloader\n",
        "from bing_image_downloader import downloader\n",
        "downloader.download(\"dolphins\",limit=30, output_dir=\"Classification_Images\",adult_filter_off=True)\n",
        "from bing_image_downloader import downloader\n",
        "downloader.download(\"red roses\",limit=30, output_dir=\"Classification_Images\",adult_filter_off=True)\n",
        "from bing_image_downloader import downloader\n",
        "downloader.download(\"Cricket bat\",limit=30, output_dir=\"Classification_Images\",adult_filter_off=True)"
      ],
      "execution_count": 1,
      "outputs": [
        {
          "output_type": "stream",
          "text": [
            "Collecting bing_image_downloader\n",
            "  Downloading https://files.pythonhosted.org/packages/c2/04/1872a689a30036aa0b81ac9fca124a7413cad71fdab714f727cf1a34b671/bing_image_downloader-1.1.1-py3-none-any.whl\n",
            "Installing collected packages: bing-image-downloader\n",
            "Successfully installed bing-image-downloader-1.1.1\n",
            "[%] Downloading Images to /content/Classification_Images/dolphins\n",
            "\n",
            "\n",
            "[!!]Indexing page: 1\n",
            "\n",
            "[%] Indexed 30 Images on Page 1.\n",
            "\n",
            "===============================================\n",
            "\n",
            "[%] Downloading Image #1 from https://img1.grunge.com/img/gallery/false-facts-about-dolphins-you-always-thought-were-true/intro-1500661774.jpg\n",
            "[%] File Downloaded !\n",
            "\n",
            "[%] Downloading Image #2 from https://i.pinimg.com/originals/a7/67/3d/a7673d9e408ed199dff1290a8d3cc6b6.jpg\n",
            "[%] File Downloaded !\n",
            "\n",
            "[%] Downloading Image #3 from https://2.bp.blogspot.com/-zpgDUk2iiLw/TlJxAwop8XI/AAAAAAAAAOE/XsSgGyYrRIw/s1600/Flippeddolphinsmile.jpg\n",
            "[%] File Downloaded !\n",
            "\n",
            "[%] Downloading Image #4 from https://www.rd.com/wp-content/uploads/2019/03/hector-dolphin.jpg\n",
            "[%] File Downloaded !\n",
            "\n",
            "[%] Downloading Image #5 from http://www.storytrender.com/wp-content/uploads/2018/10/4_CATERS_DIRTY_DANCING_DOLPHINS_05-1024x683.jpg\n",
            "[%] File Downloaded !\n",
            "\n",
            "[%] Downloading Image #6 from http://4.bp.blogspot.com/-Ji10i7JwvE4/TnPA78Fw3MI/AAAAAAAAAI0/XZmMcrOPjb8/s1600/dolphin3.jpg\n",
            "[%] File Downloaded !\n",
            "\n",
            "[%] Downloading Image #7 from https://img2.grunge.com/img/gallery/false-facts-about-dolphins-you-always-thought-were-true/dolphins-smile-because-theyre-happy-animals-1500661774.jpg\n",
            "[%] File Downloaded !\n",
            "\n",
            "[%] Downloading Image #8 from https://assets.rbl.ms/6477504/980x.jpg\n",
            "[%] File Downloaded !\n",
            "\n",
            "[%] Downloading Image #9 from https://stunningfun.com/uploads/posts/2016-06/1466886753_361920_1280x720.jpg\n",
            "[%] File Downloaded !\n",
            "\n",
            "[%] Downloading Image #10 from https://1.bp.blogspot.com/-rQkvR0FkPbk/TVgPUUpyDKI/AAAAAAAAAqw/pDoq6sPfI1U/s1600/Jumping_Bottlenose_Dolphins.jpg\n",
            "[%] File Downloaded !\n",
            "\n",
            "[%] Downloading Image #11 from https://www.seabookings.com/blog/wp-content/uploads/2019/07/dolphins_1.jpg?x17335\n",
            "[%] File Downloaded !\n",
            "\n",
            "[%] Downloading Image #12 from http://2.bp.blogspot.com/-ft_Jy0qC1nM/T483VrLyydI/AAAAAAAAARo/bSMFHk4va3k/s1600/d2.jpg\n",
            "[%] File Downloaded !\n",
            "\n",
            "[%] Downloading Image #13 from https://animals.net/wp-content/uploads/2020/02/Dolphin-1-650x425.jpg\n",
            "[%] File Downloaded !\n",
            "\n",
            "[%] Downloading Image #14 from https://i.natgeofe.com/k/5508021e-2814-42ef-87eb-8dccf24ea9ba/dolphin-communication-leaping.jpg?w=1200\n",
            "[%] File Downloaded !\n",
            "\n",
            "[%] Downloading Image #15 from https://cdn.24.co.za/files/Cms/General/d/10020/06ead853fc944922b9af418e2ecc6119.jpg\n",
            "[%] File Downloaded !\n",
            "\n",
            "[%] Downloading Image #16 from http://www.storytrender.com/wp-content/uploads/2018/10/2_CATERS_DIRTY_DANCING_DOLPHINS_03-1024x683.jpg\n",
            "[%] File Downloaded !\n",
            "\n",
            "[%] Downloading Image #17 from https://upload.wikimedia.org/wikipedia/commons/thumb/c/cc/Dolphins_at_Loro_Parque_04-crop.JPG/1200px-Dolphins_at_Loro_Parque_04-crop.JPG\n",
            "[%] File Downloaded !\n",
            "\n",
            "[%] Downloading Image #18 from https://jeevoka.com/story-images/130-d81bc912-36ae-4510-8e1d-1e62191d0830.jpg\n",
            "[%] File Downloaded !\n",
            "\n",
            "[%] Downloading Image #19 from https://tsoura.com/wp-content/uploads/2019/04/1152/mit-delfinen-schwimmen-bild.jpg\n",
            "[%] File Downloaded !\n",
            "\n",
            "[%] Downloading Image #20 from https://media.sandiegoreader.com/img/photos/2015/04/03/UNEXSO_lucaya_dolphins_t670.JPG?b3f6a5d7692ccc373d56e40cf708e3fa67d9af9d\n",
            "[%] File Downloaded !\n",
            "\n",
            "[%] Downloading Image #21 from http://1.bp.blogspot.com/-MrB3jCBAVl8/UwJSEbYdkVI/AAAAAAAAGqo/xgac7tmTNts/w1200-h630-p-k-no-nu/dolphin.jpg\n",
            "[%] File Downloaded !\n",
            "\n",
            "[%] Downloading Image #22 from https://www.grunge.com/img/gallery/false-facts-about-dolphins-you-always-thought-were-true/dolphins-are-the-only-other-species-that-has-sex-for-pleasure-1500661774.jpg\n",
            "[%] File Downloaded !\n",
            "\n",
            "[%] Downloading Image #23 from https://qph.fs.quoracdn.net/main-qimg-8e929fa0a504617a893c373b04ec913d\n",
            "[%] File Downloaded !\n",
            "\n",
            "[%] Downloading Image #24 from http://www.guy-sports.com/fun_pictures/dolphins_3.jpg\n",
            "[%] File Downloaded !\n",
            "\n",
            "[%] Downloading Image #25 from https://wildlifecruises.co.nz/wp-content/uploads/French-Toast-7Months.jpg\n",
            "[%] File Downloaded !\n",
            "\n",
            "[%] Downloading Image #26 from https://livinglifetotheblonde.com/wp-content/uploads/2020/04/GOPR0024-2-1300x975.jpg\n",
            "[%] File Downloaded !\n",
            "\n",
            "[%] Downloading Image #27 from https://www.triptemptation.com/media/5552f0b9-73a4-4e7c-95cd-b87555779d12/VXsnAQ/Blog/Alina/Dolphin-park-Dominicana/dolphins-dominican-republic.jpg\n",
            "[%] File Downloaded !\n",
            "\n",
            "[%] Downloading Image #28 from https://i.pinimg.com/originals/af/7b/ca/af7bca669e36dbfa0433f2ef954dc5b4.jpg\n",
            "[%] File Downloaded !\n",
            "\n",
            "[%] Downloading Image #29 from https://goodlucksymbols.com/wp-content/uploads/2016/12/Dolphins-symbolism.jpg\n",
            "[%] File Downloaded !\n",
            "\n",
            "[%] Downloading Image #30 from http://2.bp.blogspot.com/-iQxzODMVuvM/TVgPNh4ZVWI/AAAAAAAAAqs/Q0LXrTnpMLQ/s1600/dolphins-oil-spill.jpg\n",
            "[%] File Downloaded !\n",
            "\n",
            "\n",
            "\n",
            "[%] Done. Downloaded 30 images.\n",
            "===============================================\n",
            "\n",
            "Please show your support here\n",
            "https://www.buymeacoffee.com/gurugaurav\n",
            "\n",
            "===============================================\n",
            "\n",
            "[%] Downloading Images to /content/Classification_Images/red roses\n",
            "\n",
            "\n",
            "[!!]Indexing page: 1\n",
            "\n",
            "[%] Indexed 30 Images on Page 1.\n",
            "\n",
            "===============================================\n",
            "\n",
            "[%] Downloading Image #1 from https://res.cloudinary.com/bloomnation/c_pad,d_vendor:global:catalog:product:image.png,f_auto,fl_preserve_transparency,q_auto/v1550550570/vendor/2961/catalog/product/2/0/20150124123713_file_54c391f9051a6.jpg\n",
            "[%] File Downloaded !\n",
            "\n",
            "[%] Downloading Image #2 from https://cdn11.bigcommerce.com/s-jxetu2nhyu/images/stencil/1280x1280/products/613/1434/20-V4S__90137.1579117758.jpg?c=2\n",
            "[%] File Downloaded !\n",
            "\n",
            "[%] Downloading Image #3 from https://lindasflowers.com/wp-content/uploads/2019/12/20-v4p.jpg\n",
            "[%] File Downloaded !\n",
            "\n",
            "[%] Downloading Image #4 from https://cdn.shopify.com/s/files/1/0012/4832/9781/products/50_red_roses.jpg?v=1566932952\n",
            "[%] File Downloaded !\n",
            "\n",
            "[%] Downloading Image #5 from https://cdn.shopify.com/s/files/1/2520/3892/products/WeChat_Image_20190122221148_530x@2x.jpg?v=1556692226\n",
            "[%] File Downloaded !\n",
            "\n",
            "[%] Downloading Image #6 from https://asset.bloomnation.com/c_pad,d_vendor:global:catalog:product:image.png,f_auto,fl_preserve_transparency,q_auto/v1579055825/vendor/4960/catalog/product/2/0/20200110054813_file_5e18b8dd60087_5e18b92b68d0b_5e1e0a4e37043_5e1e0a4fee5d9.jpg\n",
            "[%] File Downloaded !\n",
            "\n",
            "[%] Downloading Image #7 from https://asset.bloomnation.com/c_pad,d_vendor:global:catalog:product:image.png,f_auto,fl_preserve_transparency,q_auto/v1599308720/vendor/6617/catalog/product/2/0/20180705044125_file_5b3e4a3572d33.jpg\n",
            "[%] File Downloaded !\n",
            "\n",
            "[%] Downloading Image #8 from https://asset.bloomnation.com/c_limit,d_vendor:global:catalog:product:image.png,f_auto,fl_preserve_transparency,q_auto/v1597548691/vendor/1410/catalog/product/2/0/20190814054220_file_5d539f3ca34ee_5d539f4a407df.jpeg\n",
            "[%] File Downloaded !\n",
            "\n",
            "[%] Downloading Image #9 from https://xoxoflowers.co.za/wp-content/uploads/2020/06/24-Red-Roses.jpg\n",
            "[%] File Downloaded !\n",
            "\n",
            "[%] Downloading Image #10 from https://www.floralbash.ca/wp-content/uploads/2018/01/AdobeStock_88501905.jpeg\n",
            "[%] File Downloaded !\n",
            "\n",
            "[%] Downloading Image #11 from https://cdn.shopify.com/s/files/1/0012/4832/9781/products/50_red_roses_1.jpg?v=1566933976\n",
            "[%] File Downloaded !\n",
            "\n",
            "[%] Downloading Image #12 from https://bestflowerdelivery.co.uk/wp-content/uploads/2020/05/True-Romance-12-Red-Roses.jpg\n",
            "[%] File Downloaded !\n",
            "\n",
            "[%] Downloading Image #13 from https://assets.flowerstore.ph/uploads/products/photos/ZH2Ynh28yrkONX09xVBJpJbSwzOmusmXFxoZYenN.jpeg\n",
            "[%] File Downloaded !\n",
            "\n",
            "[%] Downloading Image #14 from https://i.pinimg.com/originals/63/2e/1e/632e1e35a49f83c0e0e8a8d0d160c3fb.jpg\n",
            "[%] File Downloaded !\n",
            "\n",
            "[%] Downloading Image #15 from https://i.pinimg.com/originals/c5/c8/d5/c5c8d597968fff866e6189c3c12f64b2.jpg\n",
            "[%] File Downloaded !\n",
            "\n",
            "[%] Downloading Image #16 from https://s7d2.scene7.com/is/image/Teleflora/T400-3B\n",
            "[%] File Downloaded !\n",
            "\n",
            "[%] Downloading Image #17 from https://i.pinimg.com/originals/88/c2/a5/88c2a53b01f776685e0febd2aed97d18.jpg\n",
            "[%] File Downloaded !\n",
            "\n",
            "[%] Downloading Image #18 from https://i.pinimg.com/originals/08/f2/39/08f2395d70c98ad387783922776c87b1.jpg\n",
            "[%] File Downloaded !\n",
            "\n",
            "[%] Downloading Image #19 from https://xoxoflowers.co.za/wp-content/uploads/2020/06/100-Red-Roses.jpg\n",
            "[%] File Downloaded !\n",
            "\n",
            "[%] Downloading Image #20 from https://i.pinimg.com/originals/35/4a/ed/354aed9e9a761e2115f7597672b3cad2.jpg\n",
            "[%] File Downloaded !\n",
            "\n",
            "[%] Downloading Image #21 from https://live.staticflickr.com/8069/8193364735_d95e5db33b_b.jpg\n",
            "[%] File Downloaded !\n",
            "\n",
            "[%] Downloading Image #22 from http://farm5.staticflickr.com/4017/5151909013_44700dd42a_z.jpg\n",
            "[%] File Downloaded !\n",
            "\n",
            "[%] Downloading Image #23 from https://cdn1.bigcommerce.com/server3600/74756/products/3776/images/4176/My_True_Love__00431.1423337055.1280.1280.jpg?c=2\n",
            "[%] File Downloaded !\n",
            "\n",
            "[%] Downloading Image #24 from https://i.pinimg.com/originals/e2/0a/47/e20a47ea8ea04c0dc595115584c4c431.jpg\n",
            "[%] File Downloaded !\n",
            "\n",
            "[%] Downloading Image #25 from https://i.pinimg.com/originals/b7/33/e0/b733e0b36236ef31820b19b59219ee0a.jpg\n",
            "[%] File Downloaded !\n",
            "\n",
            "[%] Downloading Image #26 from https://res.cloudinary.com/bloomnation/c_pad,d_vendor:global:catalog:product:image.png,f_auto,fl_preserve_transparency,q_auto/v1588932551/vendor/6725/catalog/product/2/0/20190207040422_file_5c5c5706618ab.jpeg\n",
            "[%] File Downloaded !\n",
            "\n",
            "[%] Downloading Image #27 from https://www.clareflorist.co.uk/images/product/true-romance-new-lifestyle-2.jpg\n",
            "[%] File Downloaded !\n",
            "\n",
            "[%] Downloading Image #28 from https://asset.bloomnation.com/c_limit,d_vendor:global:catalog:product:image.png,f_auto,fl_preserve_transparency,q_auto/v1535581277/vendor/320/catalog/product/2/0/20170406012316_file_58e64144dd21f.jpg\n",
            "[%] File Downloaded !\n",
            "\n",
            "[%] Downloading Image #29 from https://i.pinimg.com/originals/3d/de/e2/3ddee24ef80cf1fce58777d8f145100a.jpg\n",
            "[%] File Downloaded !\n",
            "\n",
            "[%] Downloading Image #30 from https://i.pinimg.com/originals/c3/eb/f4/c3ebf4ce92e34d0f260675b025746555.jpg\n",
            "[%] File Downloaded !\n",
            "\n",
            "\n",
            "\n",
            "[%] Done. Downloaded 30 images.\n",
            "===============================================\n",
            "\n",
            "Please show your support here\n",
            "https://www.buymeacoffee.com/gurugaurav\n",
            "\n",
            "===============================================\n",
            "\n",
            "[%] Downloading Images to /content/Classification_Images/Cricket bat\n",
            "\n",
            "\n",
            "[!!]Indexing page: 1\n",
            "\n",
            "[%] Indexed 30 Images on Page 1.\n",
            "\n",
            "===============================================\n",
            "\n",
            "[%] Downloading Image #1 from https://n3.sdlcdn.com/imgs/g/r/s/spartan-blue-popular-willow-cricket-SDL568742857-1-ccf26.jpeg\n",
            "[%] File Downloaded !\n",
            "\n",
            "[%] Downloading Image #2 from https://n2.sdlcdn.com/imgs/i/x/b/Popular-willow-cricket-bat-Market-SDL943524258-1-2348e.jpeg\n",
            "[%] File Downloaded !\n",
            "\n",
            "[%] Downloading Image #3 from https://n2.sdlcdn.com/imgs/h/8/3/Strauss-English-Willow-Cricket-Bat-SDL263160843-2-e975d.jpeg\n",
            "[%] File Downloaded !\n",
            "\n",
            "[%] Downloading Image #4 from https://n4.sdlcdn.com/imgs/i/9/l/BMD-POPLER-WELLOW-CRICKET-BAT-SDL196099538-1-cf279.jpeg\n",
            "[%] File Downloaded !\n",
            "\n",
            "[%] Downloading Image #5 from https://www.talentcricket.co.uk/images/custom/newberyinvictusbat192__size-800-0.jpg\n",
            "[%] File Downloaded !\n",
            "\n",
            "[%] Downloading Image #6 from https://n3.sdlcdn.com/imgs/i/3/g/LenWave-Kashmir-Willow-Cricket-Bat-SDL366288239-4-c01e4.jpeg\n",
            "[%] File Downloaded !\n",
            "\n",
            "[%] Downloading Image #7 from https://n3.sdlcdn.com/imgs/i/g/x/Strauss-English-Willow-Cricket-Bat-SDL886371697-2-08b13.jpeg\n",
            "[%] File Downloaded !\n",
            "\n",
            "[%] Downloading Image #8 from https://n4.sdlcdn.com/imgs/j/b/n/cricket-bat-SDL597858602-1-ce327.jpg\n",
            "[%] File Downloaded !\n",
            "\n",
            "[%] Downloading Image #9 from https://n3.sdlcdn.com/imgs/i/h/e/CEAT-KASHMIR-WILLOW-CRICKET-BAT-SDL023104939-1-7c8bd.jpeg\n",
            "[%] File Downloaded !\n",
            "\n",
            "[%] Downloading Image #10 from https://n1.sdlcdn.com/imgs/f/u/t/kks-flameback-masters-cricket-bat-SDL340031809-3-9da56.jpg\n",
            "[%] File Downloaded !\n",
            "\n",
            "[%] Downloading Image #11 from https://n1.sdlcdn.com/imgs/f/e/u/Puma-Evospeed-1-Cricket-Bat-SDL293036791-2-357b1.jpg\n",
            "[%] File Downloaded !\n",
            "\n",
            "[%] Downloading Image #12 from https://n2.sdlcdn.com/imgs/g/i/f/Kashmir-Willow-Cricket-Bat-SDL049542430-1-cf699.jpeg\n",
            "[%] File Downloaded !\n",
            "\n",
            "[%] Downloading Image #13 from https://n1.sdlcdn.com/imgs/f/b/q/KKS-Popular-Willow-Cricket-Bat-SDL203846664-1-2f0a9.jpg\n",
            "[%] File Downloaded !\n",
            "\n",
            "[%] Downloading Image #14 from https://n2.sdlcdn.com/imgs/g/k/i/W-sports-Best-Quality-Natural-SDL602621706-1-42dbd.jpg\n",
            "[%] File Downloaded !\n",
            "\n",
            "[%] Downloading Image #15 from https://n1.sdlcdn.com/imgs/j/b/n/cricket-bat-SDL969661030-2-cf735.jpg\n",
            "[%] File Downloaded !\n",
            "\n",
            "[%] Downloading Image #16 from https://n2.sdlcdn.com/imgs/h/h/0/English-Willow-Cricket-Bat-Super-SDL149973619-1-328ff.jpg\n",
            "[%] File Downloaded !\n",
            "\n",
            "[%] Downloading Image #17 from https://n4.sdlcdn.com/imgs/g/6/k/ABS-TOP-Grains-English-Willow-SDL507924939-3-6c5a0.jpeg\n",
            "[%] File Downloaded !\n",
            "\n",
            "[%] Downloading Image #18 from https://cricketshop.co.za/wp-content/uploads/2019/04/BAS-Vampire-Legend-Gold-Cricket-Bat-100248S.jpg\n",
            "[%] File Downloaded !\n",
            "\n",
            "[%] Downloading Image #19 from http://files.websitebuilder.prositehosting.co.uk/fasthosts25824/image/ssorange.jpg\n",
            "[%] File Downloaded !\n",
            "\n",
            "[%] Downloading Image #20 from https://n3.sdlcdn.com/imgs/b/v/z/Sunley-Juniour-Cricket-Bat-SDL792866138-1-76b44.JPG\n",
            "[%] File Downloaded !\n",
            "\n",
            "[%] Downloading Image #21 from https://n4.sdlcdn.com/imgs/b/s/r/SS-Soft-Pro-Cricket-Bat-SDL208754933-1-5adc9.jpg\n",
            "[%] File Downloaded !\n",
            "\n",
            "[%] Downloading Image #22 from https://n2.sdlcdn.com/imgs/a/s/6/Puma-Kashmir-Willow-Cricket-Bat-SDL010743540-1-d1617.jpg\n",
            "[%] File Downloaded !\n",
            "\n",
            "[%] Downloading Image #23 from https://n4.sdlcdn.com/imgs/e/9/e/Gm-Purist-101-Kashmir-Willow-SDL844199696-1-4611f.jpg\n",
            "[%] File Downloaded !\n",
            "\n",
            "[%] Downloading Image #24 from https://n3.sdlcdn.com/imgs/b/x/k/Osprey-Poplar-Willow-Cricket-Bat-SDL547380497-3-f6048.jpg\n",
            "[%] File Downloaded !\n",
            "\n",
            "[%] Downloading Image #25 from https://n2.sdlcdn.com/imgs/f/s/i/instyler-Stroke-Size-4-Cricket-SDL142530945-1-c8c8f.jpg\n",
            "[%] File Downloaded !\n",
            "\n",
            "[%] Downloading Image #26 from https://n4.sdlcdn.com/imgs/b/y/j/GAS-Tapto-Cricket-Bat-SDL393751761-1-c592e.jpg\n",
            "[%] File Downloaded !\n",
            "\n",
            "[%] Downloading Image #27 from https://n1.sdlcdn.com/imgs/h/o/v/gp-kashmir-willow-cricket-bat-SDL292385902-1-47355.jpeg\n",
            "[%] File Downloaded !\n",
            "\n",
            "[%] Downloading Image #28 from https://n2.sdlcdn.com/imgs/i/9/e/cricket-bat-SDL694681144-2-e84f8.jpg\n",
            "[%] File Downloaded !\n",
            "\n",
            "[%] Downloading Image #29 from https://files.websitebuilder.prositehosting.co.uk/65/23/6523b3da-4d78-40a5-a03c-64b43e28bfb9.jpg\n",
            "[%] File Downloaded !\n",
            "\n",
            "[%] Downloading Image #30 from https://n2.sdlcdn.com/imgs/f/x/q/Cricket-bat-SDL495813378-1-e8fa4.jpeg\n",
            "[%] File Downloaded !\n",
            "\n",
            "\n",
            "\n",
            "[%] Done. Downloaded 30 images.\n",
            "===============================================\n",
            "\n",
            "Please show your support here\n",
            "https://www.buymeacoffee.com/gurugaurav\n",
            "\n",
            "===============================================\n",
            "\n"
          ],
          "name": "stdout"
        }
      ]
    },
    {
      "cell_type": "code",
      "metadata": {
        "id": "PCBa2Jb7WVfI"
      },
      "source": [
        "import shutil\n",
        "shutil.make_archive('Classification_Images', 'zip', 'Classification_Images')\n",
        "!pip freeze > requirements.txt"
      ],
      "execution_count": 2,
      "outputs": []
    },
    {
      "cell_type": "code",
      "metadata": {
        "colab": {
          "base_uri": "https://localhost:8080/"
        },
        "id": "wLIg9T6QWbRo",
        "outputId": "8097b8e8-682f-4dbc-b020-068ca0250114"
      },
      "source": [
        "import os\n",
        "import pandas as pd\n",
        "import matplotlib.pyplot as plt\n",
        "import numpy as np\n",
        "from skimage.io import imread\n",
        "from skimage.transform import resize\n",
        "from skimage.color import rgb2gray\n",
        "\n",
        "target = []\n",
        "flat_data = []\n",
        "images = []\n",
        "DataDirectory = '/content/Classification_Images'\n",
        "\n",
        "Categories = [\"dolphins\",\"red roses\",\"Cricket bat\"]\n",
        "\n",
        "for i in Categories:\n",
        "  print(\"Category is:\",i,\"\\tLabel encoded as:\",Categories.index(i))\n",
        "  target_class = Categories.index(i)\n",
        "  path = os.path.join(DataDirectory,i)\n",
        "  for img in os.listdir(path):\n",
        "    img_array = imread(os.path.join(path,img))\n",
        "    img_resized = resize(img_array,(150,150,3))\n",
        "    flat_data.append(img_resized.flatten())\n",
        "    images.append(img_resized)\n",
        "    target.append(target_class)\n",
        "flat_data = np.array(flat_data)\n",
        "images = np.array(images)\n",
        "target = np.array(target)"
      ],
      "execution_count": 3,
      "outputs": [
        {
          "output_type": "stream",
          "text": [
            "Category is: dolphins \tLabel encoded as: 0\n",
            "Category is: red roses \tLabel encoded as: 1\n",
            "Category is: Cricket bat \tLabel encoded as: 2\n"
          ],
          "name": "stdout"
        }
      ]
    },
    {
      "cell_type": "code",
      "metadata": {
        "colab": {
          "base_uri": "https://localhost:8080/"
        },
        "id": "4jIIerGTWick",
        "outputId": "4dd4c5f8-29dc-4e49-e932-2e47c40eecd8"
      },
      "source": [
        "df = pd.DataFrame(flat_data)\n",
        "df['Target'] = target\n",
        "\n",
        "from sklearn.model_selection import train_test_split\n",
        "x = df.iloc[:,:-1].values\n",
        "y = target\n",
        "print(\"Input data dimensions:\",x.shape)\n",
        "print(\"Output data dimensions:\",y.shape)\n",
        "x_train,x_test,y_train,y_test = train_test_split(x,y,shuffle=True,test_size = 0.3,random_state=109,stratify=y)\n",
        "print(\"Dimensions of input training data:\",x_train.shape)\n",
        "print(\"Dimensions of input testing data:\",x_test.shape)\n",
        "print(\"Dimensions of output training data:\",y_train.shape)\n",
        "print(\"Dimensions of output testing data:\",y_test.shape)"
      ],
      "execution_count": 4,
      "outputs": [
        {
          "output_type": "stream",
          "text": [
            "Input data dimensions: (90, 67500)\n",
            "Output data dimensions: (90,)\n",
            "Dimensions of input training data: (63, 67500)\n",
            "Dimensions of input testing data: (27, 67500)\n",
            "Dimensions of output training data: (63,)\n",
            "Dimensions of output testing data: (27,)\n"
          ],
          "name": "stdout"
        }
      ]
    },
    {
      "cell_type": "code",
      "metadata": {
        "colab": {
          "base_uri": "https://localhost:8080/"
        },
        "id": "-DOcy8dIWmBB",
        "outputId": "e8b3a237-26cb-48ec-ae59-674f3cf6e8df"
      },
      "source": [
        "print(\"Labels\\t\\t   Image index considered\")\n",
        "print(np.unique(y_train,return_counts=True))\n",
        "print(np.unique(y_test,return_counts=True))"
      ],
      "execution_count": 5,
      "outputs": [
        {
          "output_type": "stream",
          "text": [
            "Labels\t\t   Image index considered\n",
            "(array([0, 1, 2]), array([21, 21, 21]))\n",
            "(array([0, 1, 2]), array([9, 9, 9]))\n"
          ],
          "name": "stdout"
        }
      ]
    },
    {
      "cell_type": "code",
      "metadata": {
        "colab": {
          "base_uri": "https://localhost:8080/"
        },
        "id": "VdEJiWFjWpns",
        "outputId": "95ba3e65-e8e0-4c32-8b6a-819aac816a2a"
      },
      "source": [
        "from sklearn.model_selection import GridSearchCV\n",
        "from sklearn.svm import SVC\n",
        "tuned_parameters = [{'kernel': ['rbf'], 'gamma': [1e-3, 1e-4],\n",
        "                     'C': [1, 10, 100, 1000]}]\n",
        "\n",
        "cv = GridSearchCV(SVC(), tuned_parameters, refit = True,verbose= 3) \n",
        "cv.fit(x_train,y_train)"
      ],
      "execution_count": 6,
      "outputs": [
        {
          "output_type": "stream",
          "text": [
            "Fitting 5 folds for each of 8 candidates, totalling 40 fits\n",
            "[CV] C=1, gamma=0.001, kernel=rbf ....................................\n"
          ],
          "name": "stdout"
        },
        {
          "output_type": "stream",
          "text": [
            "[Parallel(n_jobs=1)]: Using backend SequentialBackend with 1 concurrent workers.\n"
          ],
          "name": "stderr"
        },
        {
          "output_type": "stream",
          "text": [
            "[CV] ........ C=1, gamma=0.001, kernel=rbf, score=0.846, total=   0.5s\n",
            "[CV] C=1, gamma=0.001, kernel=rbf ....................................\n"
          ],
          "name": "stdout"
        },
        {
          "output_type": "stream",
          "text": [
            "[Parallel(n_jobs=1)]: Done   1 out of   1 | elapsed:    0.5s remaining:    0.0s\n"
          ],
          "name": "stderr"
        },
        {
          "output_type": "stream",
          "text": [
            "[CV] ........ C=1, gamma=0.001, kernel=rbf, score=0.615, total=   0.5s\n",
            "[CV] C=1, gamma=0.001, kernel=rbf ....................................\n"
          ],
          "name": "stdout"
        },
        {
          "output_type": "stream",
          "text": [
            "[Parallel(n_jobs=1)]: Done   2 out of   2 | elapsed:    1.0s remaining:    0.0s\n"
          ],
          "name": "stderr"
        },
        {
          "output_type": "stream",
          "text": [
            "[CV] ........ C=1, gamma=0.001, kernel=rbf, score=0.769, total=   0.5s\n",
            "[CV] C=1, gamma=0.001, kernel=rbf ....................................\n",
            "[CV] ........ C=1, gamma=0.001, kernel=rbf, score=0.833, total=   0.5s\n",
            "[CV] C=1, gamma=0.001, kernel=rbf ....................................\n",
            "[CV] ........ C=1, gamma=0.001, kernel=rbf, score=0.917, total=   0.5s\n",
            "[CV] C=1, gamma=0.0001, kernel=rbf ...................................\n",
            "[CV] ....... C=1, gamma=0.0001, kernel=rbf, score=1.000, total=   0.4s\n",
            "[CV] C=1, gamma=0.0001, kernel=rbf ...................................\n",
            "[CV] ....... C=1, gamma=0.0001, kernel=rbf, score=1.000, total=   0.4s\n",
            "[CV] C=1, gamma=0.0001, kernel=rbf ...................................\n",
            "[CV] ....... C=1, gamma=0.0001, kernel=rbf, score=0.923, total=   0.4s\n",
            "[CV] C=1, gamma=0.0001, kernel=rbf ...................................\n",
            "[CV] ....... C=1, gamma=0.0001, kernel=rbf, score=1.000, total=   0.4s\n",
            "[CV] C=1, gamma=0.0001, kernel=rbf ...................................\n",
            "[CV] ....... C=1, gamma=0.0001, kernel=rbf, score=0.917, total=   0.4s\n",
            "[CV] C=10, gamma=0.001, kernel=rbf ...................................\n",
            "[CV] ....... C=10, gamma=0.001, kernel=rbf, score=0.846, total=   0.5s\n",
            "[CV] C=10, gamma=0.001, kernel=rbf ...................................\n",
            "[CV] ....... C=10, gamma=0.001, kernel=rbf, score=0.615, total=   0.5s\n",
            "[CV] C=10, gamma=0.001, kernel=rbf ...................................\n",
            "[CV] ....... C=10, gamma=0.001, kernel=rbf, score=0.769, total=   0.5s\n",
            "[CV] C=10, gamma=0.001, kernel=rbf ...................................\n",
            "[CV] ....... C=10, gamma=0.001, kernel=rbf, score=0.917, total=   0.5s\n",
            "[CV] C=10, gamma=0.001, kernel=rbf ...................................\n",
            "[CV] ....... C=10, gamma=0.001, kernel=rbf, score=0.917, total=   0.5s\n",
            "[CV] C=10, gamma=0.0001, kernel=rbf ..................................\n",
            "[CV] ...... C=10, gamma=0.0001, kernel=rbf, score=1.000, total=   0.4s\n",
            "[CV] C=10, gamma=0.0001, kernel=rbf ..................................\n",
            "[CV] ...... C=10, gamma=0.0001, kernel=rbf, score=1.000, total=   0.4s\n",
            "[CV] C=10, gamma=0.0001, kernel=rbf ..................................\n",
            "[CV] ...... C=10, gamma=0.0001, kernel=rbf, score=0.923, total=   0.4s\n",
            "[CV] C=10, gamma=0.0001, kernel=rbf ..................................\n",
            "[CV] ...... C=10, gamma=0.0001, kernel=rbf, score=1.000, total=   0.4s\n",
            "[CV] C=10, gamma=0.0001, kernel=rbf ..................................\n",
            "[CV] ...... C=10, gamma=0.0001, kernel=rbf, score=0.917, total=   0.4s\n",
            "[CV] C=100, gamma=0.001, kernel=rbf ..................................\n",
            "[CV] ...... C=100, gamma=0.001, kernel=rbf, score=0.846, total=   0.5s\n",
            "[CV] C=100, gamma=0.001, kernel=rbf ..................................\n",
            "[CV] ...... C=100, gamma=0.001, kernel=rbf, score=0.615, total=   0.5s\n",
            "[CV] C=100, gamma=0.001, kernel=rbf ..................................\n",
            "[CV] ...... C=100, gamma=0.001, kernel=rbf, score=0.769, total=   0.5s\n",
            "[CV] C=100, gamma=0.001, kernel=rbf ..................................\n",
            "[CV] ...... C=100, gamma=0.001, kernel=rbf, score=0.917, total=   0.5s\n",
            "[CV] C=100, gamma=0.001, kernel=rbf ..................................\n",
            "[CV] ...... C=100, gamma=0.001, kernel=rbf, score=0.917, total=   0.5s\n",
            "[CV] C=100, gamma=0.0001, kernel=rbf .................................\n",
            "[CV] ..... C=100, gamma=0.0001, kernel=rbf, score=1.000, total=   0.4s\n",
            "[CV] C=100, gamma=0.0001, kernel=rbf .................................\n",
            "[CV] ..... C=100, gamma=0.0001, kernel=rbf, score=1.000, total=   0.4s\n",
            "[CV] C=100, gamma=0.0001, kernel=rbf .................................\n",
            "[CV] ..... C=100, gamma=0.0001, kernel=rbf, score=0.923, total=   0.4s\n",
            "[CV] C=100, gamma=0.0001, kernel=rbf .................................\n",
            "[CV] ..... C=100, gamma=0.0001, kernel=rbf, score=1.000, total=   0.4s\n",
            "[CV] C=100, gamma=0.0001, kernel=rbf .................................\n",
            "[CV] ..... C=100, gamma=0.0001, kernel=rbf, score=0.917, total=   0.4s\n",
            "[CV] C=1000, gamma=0.001, kernel=rbf .................................\n",
            "[CV] ..... C=1000, gamma=0.001, kernel=rbf, score=0.846, total=   0.5s\n",
            "[CV] C=1000, gamma=0.001, kernel=rbf .................................\n",
            "[CV] ..... C=1000, gamma=0.001, kernel=rbf, score=0.615, total=   0.5s\n",
            "[CV] C=1000, gamma=0.001, kernel=rbf .................................\n",
            "[CV] ..... C=1000, gamma=0.001, kernel=rbf, score=0.769, total=   0.5s\n",
            "[CV] C=1000, gamma=0.001, kernel=rbf .................................\n",
            "[CV] ..... C=1000, gamma=0.001, kernel=rbf, score=0.917, total=   0.5s\n",
            "[CV] C=1000, gamma=0.001, kernel=rbf .................................\n",
            "[CV] ..... C=1000, gamma=0.001, kernel=rbf, score=0.917, total=   0.5s\n",
            "[CV] C=1000, gamma=0.0001, kernel=rbf ................................\n",
            "[CV] .... C=1000, gamma=0.0001, kernel=rbf, score=1.000, total=   0.4s\n",
            "[CV] C=1000, gamma=0.0001, kernel=rbf ................................\n",
            "[CV] .... C=1000, gamma=0.0001, kernel=rbf, score=1.000, total=   0.4s\n",
            "[CV] C=1000, gamma=0.0001, kernel=rbf ................................\n",
            "[CV] .... C=1000, gamma=0.0001, kernel=rbf, score=0.923, total=   0.4s\n",
            "[CV] C=1000, gamma=0.0001, kernel=rbf ................................\n",
            "[CV] .... C=1000, gamma=0.0001, kernel=rbf, score=1.000, total=   0.4s\n",
            "[CV] C=1000, gamma=0.0001, kernel=rbf ................................\n",
            "[CV] .... C=1000, gamma=0.0001, kernel=rbf, score=0.917, total=   0.4s\n"
          ],
          "name": "stdout"
        },
        {
          "output_type": "stream",
          "text": [
            "[Parallel(n_jobs=1)]: Done  40 out of  40 | elapsed:   18.0s finished\n"
          ],
          "name": "stderr"
        },
        {
          "output_type": "execute_result",
          "data": {
            "text/plain": [
              "GridSearchCV(cv=None, error_score=nan,\n",
              "             estimator=SVC(C=1.0, break_ties=False, cache_size=200,\n",
              "                           class_weight=None, coef0=0.0,\n",
              "                           decision_function_shape='ovr', degree=3,\n",
              "                           gamma='scale', kernel='rbf', max_iter=-1,\n",
              "                           probability=False, random_state=None, shrinking=True,\n",
              "                           tol=0.001, verbose=False),\n",
              "             iid='deprecated', n_jobs=None,\n",
              "             param_grid=[{'C': [1, 10, 100, 1000], 'gamma': [0.001, 0.0001],\n",
              "                          'kernel': ['rbf']}],\n",
              "             pre_dispatch='2*n_jobs', refit=True, return_train_score=False,\n",
              "             scoring=None, verbose=3)"
            ]
          },
          "metadata": {
            "tags": []
          },
          "execution_count": 6
        }
      ]
    },
    {
      "cell_type": "code",
      "metadata": {
        "colab": {
          "base_uri": "https://localhost:8080/"
        },
        "id": "46FytTcCWs_X",
        "outputId": "472a80cb-4dc9-46e2-8645-009b2c84d0a9"
      },
      "source": [
        "print(\"Best parameters to apply are:\",cv.best_params_)\n",
        "svm = cv.best_estimator_\n",
        "print(\"Model after tuning is:\\n\",svm)\n",
        "y_prediction = svm.predict(x_test)\n",
        "print(\"Expected results: \",y_test)\n",
        "print(\"Predicted results:\",y_prediction)"
      ],
      "execution_count": 7,
      "outputs": [
        {
          "output_type": "stream",
          "text": [
            "Best parameters to apply are: {'C': 1, 'gamma': 0.0001, 'kernel': 'rbf'}\n",
            "Model after tuning is:\n",
            " SVC(C=1, break_ties=False, cache_size=200, class_weight=None, coef0=0.0,\n",
            "    decision_function_shape='ovr', degree=3, gamma=0.0001, kernel='rbf',\n",
            "    max_iter=-1, probability=False, random_state=None, shrinking=True,\n",
            "    tol=0.001, verbose=False)\n",
            "Expected results:  [1 2 1 0 1 0 0 0 0 1 1 0 0 2 1 2 2 0 1 1 1 0 2 2 2 2 2]\n",
            "Predicted results: [1 2 1 0 1 0 0 0 0 1 1 0 0 2 1 2 2 0 1 1 1 0 2 2 1 2 2]\n"
          ],
          "name": "stdout"
        }
      ]
    },
    {
      "cell_type": "code",
      "metadata": {
        "colab": {
          "base_uri": "https://localhost:8080/"
        },
        "id": "NrbtTofgWxaz",
        "outputId": "89c37fcb-d44c-43d6-bd40-2211a22bb894"
      },
      "source": [
        "print(\"Best parameters to apply are:\",cv.best_params_)\n",
        "svm = cv.best_estimator_\n",
        "print(\"Model after tuning is:\\n\",svm)\n",
        "y_prediction = svm.predict(x_test)\n",
        "print(\"Expected results: \",y_test)\n",
        "print(\"Predicted results:\",y_prediction)"
      ],
      "execution_count": 8,
      "outputs": [
        {
          "output_type": "stream",
          "text": [
            "Best parameters to apply are: {'C': 1, 'gamma': 0.0001, 'kernel': 'rbf'}\n",
            "Model after tuning is:\n",
            " SVC(C=1, break_ties=False, cache_size=200, class_weight=None, coef0=0.0,\n",
            "    decision_function_shape='ovr', degree=3, gamma=0.0001, kernel='rbf',\n",
            "    max_iter=-1, probability=False, random_state=None, shrinking=True,\n",
            "    tol=0.001, verbose=False)\n",
            "Expected results:  [1 2 1 0 1 0 0 0 0 1 1 0 0 2 1 2 2 0 1 1 1 0 2 2 2 2 2]\n",
            "Predicted results: [1 2 1 0 1 0 0 0 0 1 1 0 0 2 1 2 2 0 1 1 1 0 2 2 1 2 2]\n"
          ],
          "name": "stdout"
        }
      ]
    },
    {
      "cell_type": "code",
      "metadata": {
        "colab": {
          "base_uri": "https://localhost:8080/"
        },
        "id": "L4ScKYg-XE2V",
        "outputId": "47d7979a-cff3-4f14-b96d-19e879fc6fec"
      },
      "source": [
        "from sklearn.metrics import confusion_matrix,classification_report,accuracy_score\n",
        "\n",
        "print(\"Confusion matrix results:\\n\",confusion_matrix(y_prediction,y_test))\n",
        "print(\"\\nClassification report of model:\\n\",classification_report(y_prediction,y_test))\n",
        "print(\"Accuracy score:\",100*accuracy_score(y_prediction,y_test))"
      ],
      "execution_count": 9,
      "outputs": [
        {
          "output_type": "stream",
          "text": [
            "Confusion matrix results:\n",
            " [[9 0 0]\n",
            " [0 9 1]\n",
            " [0 0 8]]\n",
            "\n",
            "Classification report of model:\n",
            "               precision    recall  f1-score   support\n",
            "\n",
            "           0       1.00      1.00      1.00         9\n",
            "           1       1.00      0.90      0.95        10\n",
            "           2       0.89      1.00      0.94         8\n",
            "\n",
            "    accuracy                           0.96        27\n",
            "   macro avg       0.96      0.97      0.96        27\n",
            "weighted avg       0.97      0.96      0.96        27\n",
            "\n",
            "Accuracy score: 96.29629629629629\n"
          ],
          "name": "stdout"
        }
      ]
    },
    {
      "cell_type": "code",
      "metadata": {
        "id": "LfQw2FlyXHtf"
      },
      "source": [
        "import pickle\n",
        "pickle.dump(svm,open(\"Classification_Model.p\",\"wb\"))\n",
        "\n",
        "test_model = pickle.load(open(\"Classification_Model.p\",\"rb\"))"
      ],
      "execution_count": 10,
      "outputs": []
    },
    {
      "cell_type": "code",
      "metadata": {
        "colab": {
          "base_uri": "https://localhost:8080/",
          "height": 319
        },
        "id": "uAXu1XG-XKkg",
        "outputId": "116e19ae-213f-43b3-c094-49960b1586a4"
      },
      "source": [
        "flat_data = []\n",
        "url = input ('Enter url of image to test: ')\n",
        "img_array = imread(url)\n",
        "img_resized = resize(img_array,(150,150,3))\n",
        "flat_data.append(img_resized.flatten())\n",
        "flat_data = np.array(flat_data)\n",
        "print(\"Dimensions of original image are:\",img_array.shape)\n",
        "plt.imshow(img_resized)\n",
        "y_output = test_model.predict(flat_data)\n",
        "y_output = Categories[y_output[0]]\n",
        "print(\"PREDICTED OUTPUT IS:\",y_output)"
      ],
      "execution_count": 11,
      "outputs": [
        {
          "output_type": "stream",
          "text": [
            "Enter url of image to test: https://th.bing.com/th/id/OIP.fZGrB9nJHkZWZdCwU1MD7gHaEK?w=331&h=186&c=7&o=5&dpr=1.25&pid=1.7\n",
            "Dimensions of original image are: (232, 413, 3)\n",
            "PREDICTED OUTPUT IS: red roses\n"
          ],
          "name": "stdout"
        },
        {
          "output_type": "display_data",
          "data": {
            "image/png": "[encoded data removed]",
            "text/plain": [
              "<Figure size 432x288 with 1 Axes>"
            ]
          },
          "metadata": {
            "tags": [],
            "needs_background": "light"
          }
        }
      ]
    },
    {
      "cell_type": "code",
      "metadata": {
        "id": "b3CxDUqBXNsZ"
      },
      "source": [
        ""
      ],
      "execution_count": null,
      "outputs": []
    }
  ]
}